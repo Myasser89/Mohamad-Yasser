{
  "cells": [
    {
      "cell_type": "markdown",
      "metadata": {
        "id": "I4XbyM4p_nn7"
      },
      "source": [
        "![1_8du96SQUQ0NlWmWvVu20Zw.png](attachment:1_8du96SQUQ0NlWmWvVu20Zw.png)"
      ]
    },
    {
      "cell_type": "markdown",
      "metadata": {
        "id": "MKqeHBvt_nn-"
      },
      "source": [
        "### Description \n",
        "> #### In this game, the user gets the first chance to pick the option among Rock, paper and scissors. After that computer select from the remaining two choices(randomly), the winner is decided as per the rules.\n",
        "- Rock vs paper-> paper wins\n",
        "- Rock vs scissor-> Rock wins\n",
        "- paper vs scissor-> scissor wins."
      ]
    },
    {
      "cell_type": "code",
      "execution_count": null,
      "metadata": {
        "id": "ZLJVdUD4_nn_"
      },
      "outputs": [],
      "source": []
    }
  ],
  "metadata": {
    "kernelspec": {
      "display_name": "Python 3",
      "language": "python",
      "name": "python3"
    },
    "language_info": {
      "codemirror_mode": {
        "name": "ipython",
        "version": 3
      },
      "file_extension": ".py",
      "mimetype": "text/x-python",
      "name": "python",
      "nbconvert_exporter": "python",
      "pygments_lexer": "ipython3",
      "version": "3.8.5"
    },
    "colab": {
      "provenance": []
    }
  },
  "nbformat": 4,
  "nbformat_minor": 0
}