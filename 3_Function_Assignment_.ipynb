{
  "cells": [
    {
      "cell_type": "markdown",
      "metadata": {
        "id": "743XbssyCQHz"
      },
      "source": [
        "> # Dear Epsilon Students, \n",
        "> # The More you practice The better You'll Be."
      ]
    },
    {
      "cell_type": "markdown",
      "metadata": {
        "id": "0DFBwRBPCQH6"
      },
      "source": [
        "### Instructions: \n",
        "- Make sure that you understand this topics before you start.\n",
        "- If you found something hard to do, try and try then google it and finally ask someone. \n",
        "- You can divide this work into daily tasks so that you do not feel pressure.\n",
        "- After you finish, go to model answer and rate yourself. \n",
        "- If you find something ambiguous, Try to make a hypothesis to solve a problem. "
      ]
    },
    {
      "cell_type": "markdown",
      "metadata": {
        "id": "QPmeh75GCQH8"
      },
      "source": [
        "### Question classification: \n",
        "- Green is level 1 \n",
        "- Orange is level 2 \n",
        "- Red is level 3 "
      ]
    },
    {
      "cell_type": "markdown",
      "metadata": {
        "id": "X3i0k3JKCQH9"
      },
      "source": [
        "# <center> Let's start 💪 </center> "
      ]
    },
    {
      "cell_type": "markdown",
      "metadata": {
        "id": "DAJSotQaCQH_"
      },
      "source": [
        "## <p style=\"color:green;\">Q.01 Write a function takes a two-word string and returns True if both words begin with same letter</p>\n",
        "> ('Levelheaded Llama') → True\n",
        "\n",
        "> ('Crazy Kangaroo') → False"
      ]
    },
    {
      "cell_type": "code",
      "execution_count": null,
      "metadata": {
        "id": "6Yg5TfhcCQIG"
      },
      "outputs": [],
      "source": [
        "# Answer here \n"
      ]
    },
    {
      "cell_type": "markdown",
      "metadata": {
        "id": "dXJwMG7kCQIO"
      },
      "source": [
        "## <p style=\"color:green;\">Q.02 Write a function that returns the lesser of two given numbers if both numbers are even, but returns the greater if one or both numbers are odd</p>\n",
        "\n",
        "> (2,4) → 2\n",
        "\n",
        "> (2,5) → 5"
      ]
    },
    {
      "cell_type": "code",
      "execution_count": null,
      "metadata": {
        "id": "q9ON92YrCQIV"
      },
      "outputs": [],
      "source": [
        "# Answer here \n"
      ]
    },
    {
      "cell_type": "markdown",
      "metadata": {
        "id": "q0UDG1lJCQIW"
      },
      "source": [
        "## <p style=\"color:green;\">Q.03 Write a function that capitalizes the first and fourth letters of a name</p>\n",
        "> ('macdonald') → MacDonald"
      ]
    },
    {
      "cell_type": "code",
      "execution_count": null,
      "metadata": {
        "id": "VkoIuDliCQIY"
      },
      "outputs": [],
      "source": [
        "# Answer here \n"
      ]
    },
    {
      "cell_type": "markdown",
      "metadata": {
        "id": "j3S_Kl8sCQIZ"
      },
      "source": [
        "## <p style=\"color:green;\">Q.04 Given a sentence, return a sentence with the words reversed</p>\n",
        "> ('I am home') → 'home am I'"
      ]
    },
    {
      "cell_type": "code",
      "execution_count": null,
      "metadata": {
        "id": "FRSmoEwGCQIZ"
      },
      "outputs": [],
      "source": [
        "# Answer here \n"
      ]
    },
    {
      "cell_type": "markdown",
      "metadata": {
        "id": "08rSQWzVCQIa"
      },
      "source": [
        "## <p style=\"color:orange;\">Q.05 Given a list of ints, return True if the array contains a 3 next to a 3 somewhere.</p>\n",
        "> has_33([1, 3, 3]) → True\n",
        "\n",
        "> has_33([1, 3, 1, 3]) → False\n"
      ]
    },
    {
      "cell_type": "code",
      "execution_count": null,
      "metadata": {
        "id": "JQ4UgvK0CQIb"
      },
      "outputs": [],
      "source": [
        "# Answer here \n"
      ]
    },
    {
      "cell_type": "markdown",
      "metadata": {
        "id": "mE1M1h-BCQIc"
      },
      "source": [
        "## <p style=\"color:orange;\">Q.06 BLACKJACK: Given three integers between 1 and 11, if their sum is less than or equal to 21, return their sum. If their sum exceeds 21 and there's an eleven, reduce the total sum by 10. Finally, if the sum (even after adjustment) exceeds 21, return 'BUST'¶</p>\n",
        "\n",
        ">blackjack(5,6,7) → 18\n",
        "\n",
        ">blackjack(9,9,9) → 'BUST'\n",
        "\n",
        ">blackjack(9,9,11) → 19"
      ]
    },
    {
      "cell_type": "code",
      "execution_count": null,
      "metadata": {
        "id": "8L3JeS6KCQId"
      },
      "outputs": [],
      "source": [
        "# Answer here \n"
      ]
    },
    {
      "cell_type": "markdown",
      "metadata": {
        "id": "BmQB66BgCQIe"
      },
      "source": [
        "## <p style=\"color:red;\">Q.07 SUMMER OF '69: Return the sum of the numbers in the array, except ignore sections of numbers starting with a 6 and extending to the next 9 (every 6 will be followed by at least one 9). Return 0 for no numbers.</p>\n",
        ">summer_69([1, 3, 5]) → 9\n",
        "\n",
        ">summer_69([4, 5, 6, 7, 8, 9]) → 9\n",
        "\n",
        ">summer_69([2, 1, 6, 9, 11]) → 14"
      ]
    },
    {
      "cell_type": "code",
      "execution_count": null,
      "metadata": {
        "id": "EyJxCDYlCQIe"
      },
      "outputs": [],
      "source": [
        "# Answer here \n"
      ]
    },
    {
      "cell_type": "markdown",
      "metadata": {
        "id": "FGPOFfKNCQIf"
      },
      "source": [
        "## <p style=\"color:red;\">Q.08 SPY GAME: Write a function that takes in a list of integers and returns True if it contains 007 in order</p>\n",
        "\n",
        ">spy_game([1,2,4,0,0,7,5]) → True\n",
        "\n",
        "> spy_game([1,0,2,4,0,5,7]) → True\n",
        "\n",
        " >spy_game([1,7,2,0,4,5,0]) → False\n"
      ]
    },
    {
      "cell_type": "code",
      "execution_count": null,
      "metadata": {
        "id": "9n4K9J4yCQIh"
      },
      "outputs": [],
      "source": [
        "# Answer here \n"
      ]
    },
    {
      "cell_type": "markdown",
      "metadata": {
        "id": "vJqU0IwOCQIi"
      },
      "source": [
        "## <p style=\"color:green;\">Q.09 Write a function that checks whether a number is in a given range (inclusive of high and low)</p>\n"
      ]
    },
    {
      "cell_type": "code",
      "execution_count": null,
      "metadata": {
        "id": "ZJhgQEq4CQIj"
      },
      "outputs": [],
      "source": [
        "# Answer here \n"
      ]
    },
    {
      "cell_type": "markdown",
      "metadata": {
        "id": "R8XKA5_vCQIk"
      },
      "source": [
        "## <p style=\"color:orange;\">Q.10 Write a Python function to multiply all the numbers in a list.</p>\n",
        "> Sample List : [1, 2, 3, -4]\n",
        "\n",
        "> Expected Output : -24"
      ]
    },
    {
      "cell_type": "code",
      "execution_count": null,
      "metadata": {
        "id": "VETQK_SiCQIl"
      },
      "outputs": [],
      "source": [
        "# Answer here \n"
      ]
    },
    {
      "cell_type": "markdown",
      "metadata": {
        "id": "mL6H25KKCQIl"
      },
      "source": [
        "## <p style=\"color:red;\">Q.11 Write a Python function that checks whether a passed string is palindrome or not.</p>\n",
        ">Note: A palindrome is word, phrase, or sequence that reads the same backward as forward, e.g., madam or nurses run."
      ]
    },
    {
      "cell_type": "code",
      "execution_count": null,
      "metadata": {
        "id": "wzsp2C2QCQIm"
      },
      "outputs": [],
      "source": [
        "# Answer here \n"
      ]
    },
    {
      "cell_type": "markdown",
      "metadata": {
        "id": "_5NU-BKACQIm"
      },
      "source": [
        "## <p style=\"color:green;\">Q.12 Write a Python program to create a lambda function that adds 15 to a given number passed in as an argument\n"
      ]
    },
    {
      "cell_type": "code",
      "execution_count": null,
      "metadata": {
        "id": "dWn7GHIkCQIn"
      },
      "outputs": [],
      "source": [
        "# Answer here \n"
      ]
    },
    {
      "cell_type": "markdown",
      "metadata": {
        "id": "Y5fS7weECQIn"
      },
      "source": [
        "## <p style=\"color:green;\">Q.13 create a lambda function that multiplies argument x with argument y and print the result.</p>\n"
      ]
    },
    {
      "cell_type": "code",
      "execution_count": null,
      "metadata": {
        "id": "mE8VXiVMCQIo"
      },
      "outputs": [],
      "source": [
        "# Answer here \n"
      ]
    },
    {
      "cell_type": "markdown",
      "metadata": {
        "id": "6CVEp3SlCQIo"
      },
      "source": [
        "## <p style=\"color:orange;\">Q.14 Write a Python program to filter a list of integers using Lambda. </p>\n",
        "> Original list of integers:[1, 2, 3, 4, 5, 6, 7, 8, 9, 10]\n",
        "\n",
        "> Even numbers from the said list:[2, 4, 6, 8, 10]\n",
        "\n",
        "> Odd numbers from the said list:[1, 3, 5, 7, 9]\n"
      ]
    },
    {
      "cell_type": "code",
      "execution_count": null,
      "metadata": {
        "id": "Kw9ihzGaCQIp"
      },
      "outputs": [],
      "source": [
        "# Answer here \n"
      ]
    },
    {
      "cell_type": "markdown",
      "metadata": {
        "id": "NJpavK4DCQIp"
      },
      "source": [
        "## <p style=\"color:green;\">Q.15 Write a Python program to triple all numbers of a given list of integers. Use Python map.</p>\n"
      ]
    },
    {
      "cell_type": "code",
      "execution_count": null,
      "metadata": {
        "id": "szdAEhHZCQIq"
      },
      "outputs": [],
      "source": [
        "# Answer here \n"
      ]
    },
    {
      "cell_type": "markdown",
      "metadata": {
        "id": "XHcesuaqCQIq"
      },
      "source": [
        "## <p style=\"color:orange;\">Q.16 Write a Python program to add three given lists using Python map and lambda.\n",
        "\n",
        "</p>\n"
      ]
    },
    {
      "cell_type": "code",
      "execution_count": null,
      "metadata": {
        "id": "ERUZQQe2CQIr"
      },
      "outputs": [],
      "source": [
        "# Answer here \n"
      ]
    },
    {
      "cell_type": "markdown",
      "metadata": {
        "id": "oMeTHNVoCQIs"
      },
      "source": [
        "## <p style=\"color:orange;\">Q.17 Write a Python program to square the elements of a list using map() function.</p>\n"
      ]
    },
    {
      "cell_type": "code",
      "execution_count": null,
      "metadata": {
        "id": "X4tvqhEXCQIt"
      },
      "outputs": [],
      "source": [
        "# Answer here \n"
      ]
    },
    {
      "cell_type": "markdown",
      "metadata": {
        "id": "NEWUTcbYCQIt"
      },
      "source": [
        "## <p style=\"color:green;\">Q.18 Using filter() function filter the list so that only negative numbers are left.</p>\n",
        "> lst1  [12,-1,9,8,-.5,-.2,-100]\n"
      ]
    },
    {
      "cell_type": "code",
      "execution_count": null,
      "metadata": {
        "id": "h1RPhLSHCQIu"
      },
      "outputs": [],
      "source": [
        "# Answer here \n"
      ]
    },
    {
      "cell_type": "markdown",
      "metadata": {
        "id": "EyTylin-CQIu"
      },
      "source": [
        "## <p style=\"color:green;\">Q.19 Using filter function, filter the even numbers so that only odd numbers are passed to the new list.</p>\n",
        "> lst1  [22,100,19,13,11,1,4,66]\n"
      ]
    },
    {
      "cell_type": "code",
      "execution_count": null,
      "metadata": {
        "id": "ZQkpohuzCQIv"
      },
      "outputs": [],
      "source": [
        "# Answer here\n"
      ]
    },
    {
      "cell_type": "markdown",
      "metadata": {
        "id": "uaXK0CpoCQIv"
      },
      "source": [
        "## <p style=\"color:green;\">Q.20 Using map() and filter() functions add 2000 to the values below 8000.</p>\n",
        "> lst [1000,500,600,700,5000,90000,17500]"
      ]
    },
    {
      "cell_type": "code",
      "execution_count": null,
      "metadata": {
        "id": "DEIGCTD_CQIv"
      },
      "outputs": [],
      "source": [
        "# Answer here \n"
      ]
    },
    {
      "cell_type": "markdown",
      "metadata": {
        "id": "Ya4kmk_3CQIw"
      },
      "source": [
        "# <center> Thank's for your effort ❤️ </center> "
      ]
    }
  ],
  "metadata": {
    "kernelspec": {
      "display_name": "Python 3",
      "language": "python",
      "name": "python3"
    },
    "language_info": {
      "codemirror_mode": {
        "name": "ipython",
        "version": 3
      },
      "file_extension": ".py",
      "mimetype": "text/x-python",
      "name": "python",
      "nbconvert_exporter": "python",
      "pygments_lexer": "ipython3",
      "version": "3.8.5"
    },
    "colab": {
      "provenance": []
    }
  },
  "nbformat": 4,
  "nbformat_minor": 0
}