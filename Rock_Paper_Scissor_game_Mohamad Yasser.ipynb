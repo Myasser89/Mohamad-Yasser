{
 "cells": [
  {
   "cell_type": "markdown",
   "metadata": {
    "id": "I4XbyM4p_nn7"
   },
   "source": [
    "![1_8du96SQUQ0NlWmWvVu20Zw.png](attachment:1_8du96SQUQ0NlWmWvVu20Zw.png)"
   ]
  },
  {
   "cell_type": "markdown",
   "metadata": {
    "id": "MKqeHBvt_nn-"
   },
   "source": [
    "### Description \n",
    "> #### In this game, the user gets the first chance to pick the option among Rock, paper and scissors. After that computer select from the remaining two choices(randomly), the winner is decided as per the rules.\n",
    "- Rock vs paper-> paper wins\n",
    "- Rock vs scissor-> Rock wins\n",
    "- paper vs scissor-> scissor wins."
   ]
  },
  {
   "cell_type": "code",
   "execution_count": null,
   "metadata": {
    "id": "ZLJVdUD4_nn_"
   },
   "outputs": [],
   "source": [
    "import random"
   ]
  },
  {
   "cell_type": "code",
   "execution_count": 2,
   "metadata": {},
   "outputs": [],
   "source": [
    "from random import shuffle"
   ]
  },
  {
   "cell_type": "code",
   "execution_count": null,
   "metadata": {},
   "outputs": [],
   "source": [
    "dir(random)"
   ]
  },
  {
   "cell_type": "code",
   "execution_count": null,
   "metadata": {},
   "outputs": [
    {
     "name": "stdout",
     "output_type": "stream",
     "text": [
      "Enter your Choice:Rock\n"
     ]
    }
   ],
   "source": [
    "My_list=['Rock', 'Paper', 'Scissors']\n",
    "y=shuffle(My_list)"
   ]
  },
  {
   "cell_type": "code",
   "execution_count": 24,
   "metadata": {},
   "outputs": [
    {
     "name": "stdout",
     "output_type": "stream",
     "text": [
      "Enter your Choice:Rock\n",
      "Computer Choice: Rock\n",
      "Tie\n"
     ]
    }
   ],
   "source": [
    "x=str(input('Enter your Choice:'))\n",
    "My_list=['Rock', 'Paper', 'Scissors']\n",
    "a=list(range(3))\n",
    "shuffle(a)\n",
    "a=a[0]\n",
    "print('Computer Choice:',My_list[a])\n",
    "if x=='Rock'and My_list[a]=='Paper':\n",
    "    print('You Lose')\n",
    "elif x=='Rock'and My_list[a]=='Scissors':\n",
    "    print('You Win')\n",
    "elif x=='Rock'and My_list[a]=='Rock':\n",
    "    print('Tie')\n",
    "elif x=='Paper'and My_list[a]=='Paper':\n",
    "    print('Tie')\n",
    "elif x=='Paper'and My_list[a]=='Scissors':\n",
    "    print('You Lose')\n",
    "elif x=='Paper'and My_list[a]=='Rock':\n",
    "    print('You Win')\n",
    "elif x=='Scissors'and My_list[a]=='Paper':\n",
    "    print('You Win')\n",
    "elif x=='Scissors'and My_list[a]=='Scissors':\n",
    "    print('Tie')\n",
    "elif x=='Scissors'and My_list[a]=='Rock':\n",
    "    print('You Lose')"
   ]
  },
  {
   "cell_type": "code",
   "execution_count": 25,
   "metadata": {},
   "outputs": [
    {
     "name": "stdout",
     "output_type": "stream",
     "text": [
      "Enter your Choice:Rock\n",
      "Computer Choice: Scissors\n",
      "You Win\n"
     ]
    }
   ],
   "source": [
    "x=str(input('Enter your Choice:'))\n",
    "My_list=['Rock', 'Paper', 'Scissors']\n",
    "a=list(range(3))\n",
    "shuffle(a)\n",
    "a=a[0]\n",
    "print('Computer Choice:',My_list[a])\n",
    "if x=='Rock'and My_list[a]=='Paper':\n",
    "    print('You Lose')\n",
    "elif x=='Rock'and My_list[a]=='Scissors':\n",
    "    print('You Win')\n",
    "elif x=='Paper'and My_list[a]=='Scissors':\n",
    "    print('You Lose')\n",
    "elif x=='Paper'and My_list[a]=='Rock':\n",
    "    print('You Win')\n",
    "elif x=='Scissors'and My_list[a]=='Paper':\n",
    "    print('You Win')\n",
    "elif x=='Scissors'and My_list[a]=='Rock':\n",
    "    print('You Lose')\n",
    "else:\n",
    "    print('Tie, Try Again')"
   ]
  },
  {
   "cell_type": "code",
   "execution_count": null,
   "metadata": {},
   "outputs": [],
   "source": []
  }
 ],
 "metadata": {
  "colab": {
   "provenance": []
  },
  "kernelspec": {
   "display_name": "Python 3",
   "language": "python",
   "name": "python3"
  }
 },
 "nbformat": 4,
 "nbformat_minor": 1
}
