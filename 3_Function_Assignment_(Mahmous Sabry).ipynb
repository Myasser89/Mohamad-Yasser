{
  "cells": [
    {
      "cell_type": "markdown",
      "metadata": {
        "id": "743XbssyCQHz"
      },
      "source": [
        "> # Dear Epsilon Students, \n",
        "> # The More you practice The better You'll Be."
      ]
    },
    {
      "cell_type": "markdown",
      "metadata": {
        "id": "0DFBwRBPCQH6"
      },
      "source": [
        "### Instructions: \n",
        "- Make sure that you understand this topics before you start.\n",
        "- If you found something hard to do, try and try then google it and finally ask someone. \n",
        "- You can divide this work into daily tasks so that you do not feel pressure.\n",
        "- After you finish, go to model answer and rate yourself. \n",
        "- If you find something ambiguous, Try to make a hypothesis to solve a problem. "
      ]
    },
    {
      "cell_type": "markdown",
      "metadata": {
        "id": "QPmeh75GCQH8"
      },
      "source": [
        "### Question classification: \n",
        "- Green is level 1 \n",
        "- Orange is level 2 \n",
        "- Red is level 3 "
      ]
    },
    {
      "cell_type": "markdown",
      "metadata": {
        "id": "X3i0k3JKCQH9"
      },
      "source": [
        "# <center> Let's start 💪 </center> "
      ]
    },
    {
      "cell_type": "markdown",
      "metadata": {
        "id": "DAJSotQaCQH_"
      },
      "source": [
        "## <p style=\"color:green;\">Q.01 Write a function takes a two-word string and returns True if both words begin with same letter</p>\n",
        "> ('Levelheaded Llama') → True\n",
        "\n",
        "> ('Crazy Kangaroo') → False"
      ]
    },
    {
      "cell_type": "code",
      "execution_count": 105,
      "metadata": {
        "id": "6Yg5TfhcCQIG",
        "outputId": "4c57efc2-8c8a-4da9-dd46-bfa1c7c4870e",
        "colab": {
          "base_uri": "https://localhost:8080/"
        }
      },
      "outputs": [
        {
          "output_type": "execute_result",
          "data": {
            "text/plain": [
              "True"
            ]
          },
          "metadata": {},
          "execution_count": 105
        }
      ],
      "source": [
        "def function1(x):\n",
        "  \"\"\"\n",
        "  function takes a two-word string and returns True if both words begin with same letter\n",
        "  \"\"\"\n",
        "  x = x.split()\n",
        "  if x[0][0] == x[1][0]:\n",
        "    return(True)\n",
        "  else: \n",
        "    return(False)\n",
        "\n",
        "\n",
        "\n",
        "function1('Levelheaded Llama')\n",
        "\n",
        "\n",
        "\n"
      ]
    },
    {
      "cell_type": "markdown",
      "metadata": {
        "id": "dXJwMG7kCQIO"
      },
      "source": [
        "## <p style=\"color:green;\">Q.02 Write a function that returns the lesser of two given numbers if both numbers are even, but returns the greater if one or both numbers are odd</p>\n",
        "\n",
        "> (2,4) → 2\n",
        "\n",
        "> (2,5) → 5"
      ]
    },
    {
      "cell_type": "code",
      "execution_count": 109,
      "metadata": {
        "id": "q9ON92YrCQIV",
        "outputId": "fb17d1c7-173f-49ef-ebc4-b495a604eab9",
        "colab": {
          "base_uri": "https://localhost:8080/"
        }
      },
      "outputs": [
        {
          "output_type": "execute_result",
          "data": {
            "text/plain": [
              "11"
            ]
          },
          "metadata": {},
          "execution_count": 109
        }
      ],
      "source": [
        "def function2(x,y):\n",
        "\n",
        "  \"\"\"\n",
        "  function that returns the lesser of two given numbers if both numbers are even, but returns the greater if one or both numbers are odd\n",
        "  \"\"\"\n",
        " \n",
        "  if x%2==0 and y%2==0:\n",
        "   if x<y :\n",
        "     return(x)\n",
        "   elif x>y:\n",
        "    return(y)\n",
        "  elif x%2!=0 and y%2!=0:\n",
        "   if x>y :\n",
        "     return(x)\n",
        "   elif x<y:\n",
        "    return(y)  \n",
        "  \n",
        "function2(5,11)\n",
        "\n",
        "\n"
      ]
    },
    {
      "cell_type": "markdown",
      "metadata": {
        "id": "q0UDG1lJCQIW"
      },
      "source": [
        "## <p style=\"color:green;\">Q.03 Write a function that capitalizes the first and fourth letters of a name</p>\n",
        "> ('macdonald') → MacDonald"
      ]
    },
    {
      "cell_type": "code",
      "execution_count": 108,
      "metadata": {
        "id": "VkoIuDliCQIY",
        "outputId": "a692c54c-4aeb-43a6-a7f9-b3ad631a1ecd",
        "colab": {
          "base_uri": "https://localhost:8080/",
          "height": 36
        }
      },
      "outputs": [
        {
          "output_type": "execute_result",
          "data": {
            "text/plain": [
              "'MacDonald'"
            ],
            "application/vnd.google.colaboratory.intrinsic+json": {
              "type": "string"
            }
          },
          "metadata": {},
          "execution_count": 108
        }
      ],
      "source": [
        "def function3(x):\n",
        "  \"\"\"\n",
        "  function that capitalizes the first and fourth letters of a name\n",
        "  \"\"\"\n",
        "\n",
        "  #function that capitalizes the first and fourth letters of a name\n",
        "  x=list(x)\n",
        "  x[0]=x[0].upper()\n",
        "\n",
        "  x[3]=x[3].upper()\n",
        "\n",
        "  x=\"\".join(x)\n",
        "\n",
        "  return(x)\n",
        "\n",
        "function3('macdonald')\n",
        "\n"
      ]
    },
    {
      "cell_type": "markdown",
      "metadata": {
        "id": "j3S_Kl8sCQIZ"
      },
      "source": [
        "## <p style=\"color:green;\">Q.04 Given a sentence, return a sentence with the words reversed</p>\n",
        "> ('I am home') → 'home am I'"
      ]
    },
    {
      "cell_type": "code",
      "source": [
        "x='I am home'\n",
        "x=x.split()\n",
        "x=x[ ::-1]\n",
        "x=\" \".join(x)\n",
        "x\n"
      ],
      "metadata": {
        "id": "MijoubAhuX4P",
        "outputId": "eece7276-241b-447e-f144-6727a906bbc6",
        "colab": {
          "base_uri": "https://localhost:8080/",
          "height": 36
        }
      },
      "execution_count": 99,
      "outputs": [
        {
          "output_type": "execute_result",
          "data": {
            "text/plain": [
              "'home am I'"
            ],
            "application/vnd.google.colaboratory.intrinsic+json": {
              "type": "string"
            }
          },
          "metadata": {},
          "execution_count": 99
        }
      ]
    },
    {
      "cell_type": "markdown",
      "metadata": {
        "id": "08rSQWzVCQIa"
      },
      "source": [
        "## <p style=\"color:orange;\">Q.05 Given a list of ints, return True if the array contains a 3 next to a 3 somewhere.</p>\n",
        "> has_33([1, 3, 3]) → True\n",
        "\n",
        "> has_33([1, 3, 1, 3]) → False\n"
      ]
    },
    {
      "cell_type": "code",
      "execution_count": 12,
      "metadata": {
        "id": "JQ4UgvK0CQIb",
        "outputId": "21687734-3132-4db6-eace-2910adf7a24b",
        "colab": {
          "base_uri": "https://localhost:8080/"
        }
      },
      "outputs": [
        {
          "output_type": "execute_result",
          "data": {
            "text/plain": [
              "True"
            ]
          },
          "metadata": {},
          "execution_count": 12
        }
      ],
      "source": [
        "def has_33(x):\n",
        "    for i in range(len(x)-1):\n",
        "        if x[i:i+2] == [3,3]:\n",
        "            return True\n",
        "    return False\n",
        "has_33([3,3,1])"
      ]
    },
    {
      "cell_type": "markdown",
      "metadata": {
        "id": "mE1M1h-BCQIc"
      },
      "source": [
        "## <p style=\"color:orange;\">Q.06 BLACKJACK: Given three integers between 1 and 11, if their sum is less than or equal to 21, return their sum. If their sum exceeds 21 and there's an eleven, reduce the total sum by 10. Finally, if the sum (even after adjustment) exceeds 21, return 'BUST'¶</p>\n",
        "\n",
        ">blackjack(5,6,7) → 18\n",
        "\n",
        ">blackjack(9,9,9) → 'BUST'\n",
        "\n",
        ">blackjack(9,9,11) → 19"
      ]
    },
    {
      "cell_type": "code",
      "execution_count": 30,
      "metadata": {
        "id": "8L3JeS6KCQId",
        "outputId": "928e04b4-0019-479b-9f98-92e278529b25",
        "colab": {
          "base_uri": "https://localhost:8080/"
        }
      },
      "outputs": [
        {
          "output_type": "stream",
          "name": "stdout",
          "text": [
            "19\n"
          ]
        }
      ],
      "source": [
        "def blackjack(x,y,z):\n",
        "  if (x+y+z)<21:\n",
        "    print(x+y+z)\n",
        "  elif (x+y+z)>21 and x==11 or y==11 or z==11:\n",
        "    if (x+y+z)-10<21:\n",
        "      print(x+y+z-10)\n",
        "  else:\n",
        "    print('BUST')\n",
        "  \n",
        "\n",
        "blackjack(9,9,11)\n"
      ]
    },
    {
      "cell_type": "markdown",
      "metadata": {
        "id": "BmQB66BgCQIe"
      },
      "source": [
        "## <p style=\"color:red;\">Q.07 SUMMER OF '69: Return the sum of the numbers in the array, except ignore sections of numbers starting with a 6 and extending to the next 9 (every 6 will be followed by at least one 9). Return 0 for no numbers.</p>\n",
        ">summer_69([1, 3, 5]) → 9\n",
        "\n",
        ">summer_69([4, 5, 6, 7, 8, 9]) → 9\n",
        "\n",
        ">summer_69([2, 1, 6, 9, 11]) → 14"
      ]
    },
    {
      "cell_type": "code",
      "execution_count": 29,
      "metadata": {
        "id": "EyJxCDYlCQIe",
        "outputId": "3a9a1050-ccc4-47fc-edd0-7fd5fad5dbe1",
        "colab": {
          "base_uri": "https://localhost:8080/"
        }
      },
      "outputs": [
        {
          "output_type": "execute_result",
          "data": {
            "text/plain": [
              "14"
            ]
          },
          "metadata": {},
          "execution_count": 29
        }
      ],
      "source": [
        "def summer_69(l):\n",
        "  l1=l[:l.index(6)]\n",
        "  l2=l[l.index(9)+1:]\n",
        "  return(sum(l1)+sum(l2))\n",
        "\n",
        "summer_69([2,1,6,9,11])\n"
      ]
    },
    {
      "cell_type": "markdown",
      "metadata": {
        "id": "FGPOFfKNCQIf"
      },
      "source": [
        "## <p style=\"color:red;\">Q.08 SPY GAME: Write a function that takes in a list of integers and returns True if it contains 007 in order</p>\n",
        "\n",
        ">spy_game([1,2,4,0,0,7,5]) → True\n",
        "\n",
        "> spy_game([1,0,2,4,0,5,7]) → True\n",
        "\n",
        " >spy_game([1,7,2,0,4,5,0]) → False\n"
      ]
    },
    {
      "cell_type": "code",
      "execution_count": 52,
      "metadata": {
        "id": "9n4K9J4yCQIh",
        "outputId": "ebbe6d16-8e0f-4100-f1f4-060b65fce796",
        "colab": {
          "base_uri": "https://localhost:8080/"
        }
      },
      "outputs": [
        {
          "output_type": "execute_result",
          "data": {
            "text/plain": [
              "True"
            ]
          },
          "metadata": {},
          "execution_count": 52
        }
      ],
      "source": [
        "def spy_game(x):\n",
        "  for i in range(len(x)):\n",
        "      if (x[i:i+3])==[0,0,7]:\n",
        "        return(True)\n",
        "  else:\n",
        "    return(False)\n",
        "   \n",
        "       \n",
        "         \n",
        "spy_game([1,2,4,0,0,7,5])"
      ]
    },
    {
      "cell_type": "markdown",
      "metadata": {
        "id": "vJqU0IwOCQIi"
      },
      "source": [
        "## <p style=\"color:green;\">Q.09 Write a function that checks whether a number is in a given range (inclusive of high and low)</p>\n"
      ]
    },
    {
      "cell_type": "code",
      "execution_count": 55,
      "metadata": {
        "id": "ZJhgQEq4CQIj",
        "outputId": "18c805cf-7908-41fe-b9b6-ae0b799633a6",
        "colab": {
          "base_uri": "https://localhost:8080/"
        }
      },
      "outputs": [
        {
          "output_type": "stream",
          "name": "stdout",
          "text": [
            "Number is within the range\n"
          ]
        }
      ],
      "source": [
        "def ran_check(num,low,high):\n",
        "    for i in range(low,high+1):\n",
        "        if num==i:\n",
        "            print('Number is within the range')\n",
        "            break\n",
        "    else :\n",
        "            print('Number is out of range')\n",
        "ran_check(6,5,9)\n"
      ]
    },
    {
      "cell_type": "markdown",
      "metadata": {
        "id": "R8XKA5_vCQIk"
      },
      "source": [
        "## <p style=\"color:orange;\">Q.10 Write a Python function to multiply all the numbers in a list.</p>\n",
        "> Sample List : [1, 2, 3, -4]\n",
        "\n",
        "> Expected Output : -24"
      ]
    },
    {
      "cell_type": "code",
      "execution_count": 73,
      "metadata": {
        "id": "VETQK_SiCQIl",
        "outputId": "49c8f301-7928-47d5-96ed-80811e869b73",
        "colab": {
          "base_uri": "https://localhost:8080/"
        }
      },
      "outputs": [
        {
          "output_type": "execute_result",
          "data": {
            "text/plain": [
              "-24"
            ]
          },
          "metadata": {},
          "execution_count": 73
        }
      ],
      "source": [
        "def mult_list(l):\n",
        "  x=1\n",
        "  for i in l:\n",
        "    x =x*i\n",
        "  return(x)\n",
        "   \n",
        "mult_list([1,2,3,-4])\n"
      ]
    },
    {
      "cell_type": "markdown",
      "metadata": {
        "id": "mL6H25KKCQIl"
      },
      "source": [
        "## <p style=\"color:red;\">Q.11 Write a Python function that checks whether a passed string is palindrome or not.</p>\n",
        ">Note: A palindrome is word, phrase, or sequence that reads the same backward as forward, e.g., madam or nurses run."
      ]
    },
    {
      "cell_type": "code",
      "execution_count": 80,
      "metadata": {
        "id": "wzsp2C2QCQIm",
        "outputId": "326acba2-21db-4e37-862f-ddfbd6a4d0a6",
        "colab": {
          "base_uri": "https://localhost:8080/"
        }
      },
      "outputs": [
        {
          "output_type": "stream",
          "name": "stdout",
          "text": [
            "palindrome\n"
          ]
        }
      ],
      "source": [
        "def is_palindrome(s):\n",
        "  if s[::-1]==s[0:]:\n",
        "    print('palindrome')\n",
        "  else:\n",
        "    print('not palindrome')\n",
        "\n",
        "is_palindrome('madam')\n",
        "\n"
      ]
    },
    {
      "cell_type": "markdown",
      "metadata": {
        "id": "_5NU-BKACQIm"
      },
      "source": [
        "## <p style=\"color:green;\">Q.12 Write a Python program to create a lambda function that adds 15 to a given number passed in as an argument\n"
      ]
    },
    {
      "cell_type": "code",
      "execution_count": 85,
      "metadata": {
        "id": "dWn7GHIkCQIn",
        "outputId": "04e130b2-4d0e-4b6c-96b9-cb668b35a488",
        "colab": {
          "base_uri": "https://localhost:8080/"
        }
      },
      "outputs": [
        {
          "output_type": "execute_result",
          "data": {
            "text/plain": [
              "20"
            ]
          },
          "metadata": {},
          "execution_count": 85
        }
      ],
      "source": [
        "x=lambda a : a+15\n",
        "\n",
        "x(5)"
      ]
    },
    {
      "cell_type": "markdown",
      "metadata": {
        "id": "Y5fS7weECQIn"
      },
      "source": [
        "## <p style=\"color:green;\">Q.13 create a lambda function that multiplies argument x with argument y and print the result.</p>\n"
      ]
    },
    {
      "cell_type": "code",
      "execution_count": 89,
      "metadata": {
        "id": "mE8VXiVMCQIo",
        "outputId": "b4107469-28d6-4adc-c53a-ce8974cdea9d",
        "colab": {
          "base_uri": "https://localhost:8080/"
        }
      },
      "outputs": [
        {
          "output_type": "stream",
          "name": "stdout",
          "text": [
            "30\n"
          ]
        }
      ],
      "source": [
        "\n",
        "x = lambda a, b : print(a * b)\n",
        "\n",
        "x(6,5)"
      ]
    },
    {
      "cell_type": "markdown",
      "metadata": {
        "id": "6CVEp3SlCQIo"
      },
      "source": [
        "## <p style=\"color:orange;\">Q.14 Write a Python program to filter a list of integers using Lambda. </p>\n",
        "> Original list of integers:[1, 2, 3, 4, 5, 6, 7, 8, 9, 10]\n",
        "\n",
        "> Even numbers from the said list:[2, 4, 6, 8, 10]\n",
        "\n",
        "> Odd numbers from the said list:[1, 3, 5, 7, 9]\n"
      ]
    },
    {
      "cell_type": "code",
      "execution_count": 90,
      "metadata": {
        "id": "Kw9ihzGaCQIp",
        "outputId": "0816fbd3-b9a6-4044-d6c5-d0650ff9adb8",
        "colab": {
          "base_uri": "https://localhost:8080/"
        }
      },
      "outputs": [
        {
          "output_type": "stream",
          "name": "stdout",
          "text": [
            "Original list of integers:\n",
            "[1, 2, 3, 4, 5, 6, 7, 8, 9, 10]\n",
            "\n",
            "Even numbers from the said list:\n",
            "[2, 4, 6, 8, 10]\n",
            "\n",
            "Odd numbers from the said list:\n",
            "[1, 3, 5, 7, 9]\n"
          ]
        }
      ],
      "source": [
        "nums = [1, 2, 3, 4, 5, 6, 7, 8, 9, 10]\n",
        "print(\"Original list of integers:\")\n",
        "print(nums)\n",
        "print(\"\\nEven numbers from the said list:\")\n",
        "even_nums = list(filter(lambda x: x%2 == 0, nums))\n",
        "print(even_nums)\n",
        "print(\"\\nOdd numbers from the said list:\")\n",
        "odd_nums = list(filter(lambda x: x%2 != 0, nums))\n",
        "print(odd_nums)\n"
      ]
    },
    {
      "cell_type": "markdown",
      "metadata": {
        "id": "NJpavK4DCQIp"
      },
      "source": [
        "## <p style=\"color:green;\">Q.15 Write a Python program to triple all numbers of a given list of integers. Use Python map.</p>\n"
      ]
    },
    {
      "cell_type": "code",
      "execution_count": 102,
      "metadata": {
        "id": "szdAEhHZCQIq",
        "outputId": "85382e30-02ab-4aac-8306-402d849d89d8",
        "colab": {
          "base_uri": "https://localhost:8080/"
        }
      },
      "outputs": [
        {
          "output_type": "stream",
          "name": "stdout",
          "text": [
            "[3, 6, 9, 12]\n"
          ]
        }
      ],
      "source": [
        "l=[1,2,3,4]\n",
        "result = map(lambda x: x + x + x, l) \n",
        "print(list(result))\n"
      ]
    },
    {
      "cell_type": "markdown",
      "metadata": {
        "id": "XHcesuaqCQIq"
      },
      "source": [
        "## <p style=\"color:orange;\">Q.16 Write a Python program to add three given lists using Python map and lambda.\n",
        "\n",
        "</p>\n"
      ]
    },
    {
      "cell_type": "code",
      "execution_count": 103,
      "metadata": {
        "id": "ERUZQQe2CQIr",
        "outputId": "b302cdd5-97a8-489b-bb87-eff2d8e24a16",
        "colab": {
          "base_uri": "https://localhost:8080/"
        }
      },
      "outputs": [
        {
          "output_type": "stream",
          "name": "stdout",
          "text": [
            "[12, 15, 18]\n"
          ]
        }
      ],
      "source": [
        "l1 = [1, 2, 3] \n",
        "l2 = [4, 5, 6] \n",
        "l3 = [7, 8, 9] \n",
        "\n",
        "result = map(lambda x, y, z: x + y + z, l1, l2, l3) \n",
        "\n",
        "print(list(result))\n"
      ]
    },
    {
      "cell_type": "markdown",
      "metadata": {
        "id": "oMeTHNVoCQIs"
      },
      "source": [
        "## <p style=\"color:orange;\">Q.17 Write a Python program to square the elements of a list using map() function.</p>\n"
      ]
    },
    {
      "cell_type": "code",
      "execution_count": 104,
      "metadata": {
        "id": "X4tvqhEXCQIt",
        "outputId": "6a68145d-1d7e-45a4-b5fc-674c336993fa",
        "colab": {
          "base_uri": "https://localhost:8080/"
        }
      },
      "outputs": [
        {
          "output_type": "stream",
          "name": "stdout",
          "text": [
            "[25, 4, 9, 16]\n"
          ]
        }
      ],
      "source": [
        "def square_l(x):\n",
        "  return x * x\n",
        "l = [5, 2, 3, 4]\n",
        "result = map(square_l, l)\n",
        "print(list(result))"
      ]
    },
    {
      "cell_type": "markdown",
      "metadata": {
        "id": "NEWUTcbYCQIt"
      },
      "source": [
        "## <p style=\"color:green;\">Q.18 Using filter() function filter the list so that only negative numbers are left.</p>\n",
        "> lst1  [12,-1,9,8,-.5,-.2,-100]\n"
      ]
    },
    {
      "cell_type": "code",
      "execution_count": 105,
      "metadata": {
        "id": "h1RPhLSHCQIu",
        "outputId": "3daaabae-5ad8-4a67-b9e3-e338b25770b5",
        "colab": {
          "base_uri": "https://localhost:8080/"
        }
      },
      "outputs": [
        {
          "output_type": "stream",
          "name": "stdout",
          "text": [
            "[-1, -0.5, -0.2, -100]\n"
          ]
        }
      ],
      "source": [
        "lst1 =[12,-1,9,8,-.5,-.2,-100]\n",
        "lst2 = list(filter(lambda x: x<0, lst1))\n",
        "print(lst2)\n"
      ]
    },
    {
      "cell_type": "markdown",
      "metadata": {
        "id": "EyTylin-CQIu"
      },
      "source": [
        "## <p style=\"color:green;\">Q.19 Using filter function, filter the even numbers so that only odd numbers are passed to the new list.</p>\n",
        "> lst1  [22,100,19,13,11,1,4,66]\n"
      ]
    },
    {
      "cell_type": "code",
      "execution_count": 106,
      "metadata": {
        "id": "ZQkpohuzCQIv",
        "outputId": "70e5f6b2-4dd5-4e18-8e7a-012a782a3701",
        "colab": {
          "base_uri": "https://localhost:8080/"
        }
      },
      "outputs": [
        {
          "output_type": "stream",
          "name": "stdout",
          "text": [
            "[19, 13, 11, 1]\n"
          ]
        }
      ],
      "source": [
        "\n",
        "lst1 =[22,100,19,13,11,1,4,66]\n",
        "lst2 = list(filter(lambda x: x%2!=0, lst1))\n",
        "print(lst2)"
      ]
    },
    {
      "cell_type": "markdown",
      "metadata": {
        "id": "uaXK0CpoCQIv"
      },
      "source": [
        "## <p style=\"color:green;\">Q.20 Using map() and filter() functions add 2000 to the values below 8000.</p>\n",
        "> lst [1000,500,600,700,5000,90000,17500]"
      ]
    },
    {
      "cell_type": "code",
      "execution_count": 112,
      "metadata": {
        "id": "DEIGCTD_CQIv",
        "outputId": "98e4485b-f8bd-4163-8602-a9327b78faf2",
        "colab": {
          "base_uri": "https://localhost:8080/"
        }
      },
      "outputs": [
        {
          "output_type": "stream",
          "name": "stdout",
          "text": [
            "[3000, 2500, 2600, 2700, 7000]\n"
          ]
        }
      ],
      "source": [
        "lst=[1000,500,600,700,5000,90000,17500]\n",
        "lst2 = list(map(lambda x: x+2000, filter(lambda x: x<8000, lst)))\n",
        "print(lst2)"
      ]
    },
    {
      "cell_type": "markdown",
      "metadata": {
        "id": "Ya4kmk_3CQIw"
      },
      "source": [
        "# <center> Thank's for your effort ❤️ </center> "
      ]
    }
  ],
  "metadata": {
    "kernelspec": {
      "display_name": "Python 3",
      "language": "python",
      "name": "python3"
    },
    "language_info": {
      "codemirror_mode": {
        "name": "ipython",
        "version": 3
      },
      "file_extension": ".py",
      "mimetype": "text/x-python",
      "name": "python",
      "nbconvert_exporter": "python",
      "pygments_lexer": "ipython3",
      "version": "3.8.5"
    },
    "colab": {
      "provenance": []
    }
  },
  "nbformat": 4,
  "nbformat_minor": 0
}